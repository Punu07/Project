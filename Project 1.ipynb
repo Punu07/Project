{
 "cells": [
  {
   "cell_type": "markdown",
   "id": "dfed7842-c2a4-4ccc-85ee-28f12e1dc0d5",
   "metadata": {},
   "source": [
    "# Data Science in jupyter"
   ]
  },
  {
   "cell_type": "markdown",
   "id": "d7dfaf79-88c0-45b9-bba7-9586e67a411a",
   "metadata": {},
   "source": [
    "## Introduction\n",
    "\n",
    "\r\n",
    "Welcome to this interactive notebook focusing on Data Science essentials! In the world of data analysis and machine learning, proficiency in various languages, libraries, and tools is crucial. This notebook aims to provide an overview of key elements in the data science landscape.\r\n",
    "\r\n",
    "In the upcoming sections, we will explore popular data science languages, essential libraries, and useful tools for data scientists. Additionally, we'll dive into practical examples, including arithmetic expressions, to showcase how to perform basic operations in Python.\r\n",
    "\r\n",
    "Whether you're a beginner looking to get started in data science or an experienced practitioner brushing up on fundamentals, this notebook is designed to be informative and hands-on.\r\n",
    "\r\n",
    "Let's embark on this data science journey together!\r\n"
   ]
  },
  {
   "cell_type": "markdown",
   "id": "87b11c73-d5c1-45bb-91f1-7dc1fe94730d",
   "metadata": {},
   "source": [
    "## Data Science Languages\r\n",
    "- Python\r\n",
    "- R\r\n",
    "- SQL"
   ]
  },
  {
   "cell_type": "markdown",
   "id": "585f74b4-6a40-4b15-9019-e015c8c2f275",
   "metadata": {},
   "source": [
    "## Data Science Libraries\r\n",
    "- NumPy\r\n",
    "- Pandas\r\n",
    "- Matplotlib\r\n",
    "- Seaborn\r\n",
    "- Scikit-learn\r\n",
    "- TensorFlow\r\n",
    "- PyTorch"
   ]
  },
  {
   "cell_type": "markdown",
   "id": "9dc98605-6246-4f0a-a491-f94f1234fa15",
   "metadata": {},
   "source": [
    "##  Data Science Tools Table\r\n",
    "\r\n",
    "| Tool            | Description               |\r\n",
    "| --------------- | ------------------------- |\r\n",
    "| Jupyter Notebook| Interactive environment   |\r\n",
    "| VS Code         | Integrated Development    |\r\n",
    "|                 | Environment (IDE)         |\r\n",
    "| Git             | Version control system    |\r\n"
   ]
  },
  {
   "cell_type": "markdown",
   "id": "44b9e4c3-dc3a-4e3b-a047-d2d8ac0e6919",
   "metadata": {},
   "source": [
    "## Arithmetic Expression Examples\n",
    " -  '+' - Addition \n",
    " - '-' - Substraction\n",
    " - '*' - Multiplication\n",
    " - '/' - Division"
   ]
  },
  {
   "cell_type": "code",
   "execution_count": 2,
   "id": "524ea726-9a67-401d-ae94-3771b93c1bdf",
   "metadata": {},
   "outputs": [
    {
     "name": "stdout",
     "output_type": "stream",
     "text": [
      "Multiplying 5 and 10 results in: 50\n",
      "Adding 5 and 10 results in: 15\n"
     ]
    }
   ],
   "source": [
    "# Multiply and Add Numbers\n",
    "\n",
    "# Example 1: Multiplication\n",
    "a = 5\n",
    "b = 10\n",
    "result_multiply = a * b\n",
    "print(f\"Multiplying {a} and {b} results in: {result_multiply}\")\n",
    "\n",
    "# Example 2: Addition\n",
    "result_add = a + b\n",
    "print(f\"Adding {a} and {b} results in: {result_add}\")\n"
   ]
  },
  {
   "cell_type": "code",
   "execution_count": 3,
   "id": "e26f1905-ecd9-48e5-acb1-6aa25fe54432",
   "metadata": {},
   "outputs": [
    {
     "data": {
      "text/plain": [
       "2.0"
      ]
     },
     "execution_count": 3,
     "metadata": {},
     "output_type": "execute_result"
    }
   ],
   "source": [
    "# Code for converting minutes to hours\n",
    "minutes = 120\n",
    "hours = minutes / 60\n",
    "hours\n"
   ]
  },
  {
   "cell_type": "markdown",
   "id": "0d253072-2aab-45ea-af6c-e5604c13b8d2",
   "metadata": {},
   "source": [
    "## Objectives\r\n",
    "\r\n",
    "In this notebook, our primary objectives are:\r\n",
    "\r\n",
    "1. **Explore Data Science Languages:**\r\n",
    "   - Introduce and discuss essential programming languages in the field of data science, including Python, R, and SQL.\r\n",
    "\r\n",
    "2. **Discover Data Science Libraries:**\r\n",
    "   - List and briefly explain key libraries used in data science projects, such as NumPy, Pandas, Matplotlib, Seaborn, Scikit-learn, TensorFlow, and PyTorch.\r\n",
    "\r\n",
    "3. **Understand Data Science Tools:**\r\n",
    "   - Present a table summarizing important tools for data scientists, including Jupyter Notebook, VS Code, and Git.\r\n",
    "\r\n",
    "4. **Demonstrate Basic Arithmetic Operations:**\r\n",
    "   - Showcase examples of basic arithmetic expressions in Python, including multiplication, addition, division, and subtraction.\r\n",
    "\r\n",
    "5. **Convert Minutes to Hours:**\r\n",
    "   - Provide a code example to demonstrate how to convert minutes to hours using Python.\r\n",
    "\r\n",
    "6. **Engage in Practical Coding Exercises:**\r\n",
    "   - Encourage hands-on learning through practical coding exercises, including arithmetic operations and conversions.\r\n",
    "\r\n",
    "7. **Promote Interactivity and Exploration:**\r\n",
    "   - Foster a learning environment that encourages exploration and experimentation with the presented concepts.\r\n",
    "\r\n",
    "8. **Author Recognition:**\r\n",
    "   - Acknowledge the author's contribution and provide a clear indication of the notebook's purpose and content.\r\n",
    "\r\n",
    "Feel free to navigate through the notebook and use these objectives as a guide to gain insights into the foundational aspects of data science and practical coding examples.\r\n"
   ]
  },
  {
   "cell_type": "markdown",
   "id": "e20b3dc4-3cf6-4dff-a112-4b9021d33197",
   "metadata": {},
   "source": [
    "## Author\r\n",
    "\r\n",
    "This notebook was authoreby Punam Patel].\r\n"
   ]
  },
  {
   "cell_type": "code",
   "execution_count": null,
   "id": "6cc62859-1e90-4c98-aaac-92bba556bba9",
   "metadata": {},
   "outputs": [],
   "source": []
  }
 ],
 "metadata": {
  "kernelspec": {
   "display_name": "Python 3 (ipykernel)",
   "language": "python",
   "name": "python3"
  },
  "language_info": {
   "codemirror_mode": {
    "name": "ipython",
    "version": 3
   },
   "file_extension": ".py",
   "mimetype": "text/x-python",
   "name": "python",
   "nbconvert_exporter": "python",
   "pygments_lexer": "ipython3",
   "version": "3.12.0"
  }
 },
 "nbformat": 4,
 "nbformat_minor": 5
}
